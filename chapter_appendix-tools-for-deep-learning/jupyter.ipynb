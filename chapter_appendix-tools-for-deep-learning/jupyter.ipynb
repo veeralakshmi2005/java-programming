{
  "cells": [
    {
      "cell_type": "markdown",
      "id": "31d9a4c9",
      "metadata": {
        "origin_pos": 0,
        "id": "31d9a4c9"
      },
      "source": [
        "# Using Jupyter Notebooks\n",
        ":label:`sec_jupyter`\n",
        "\n",
        "\n",
        "This section describes how to edit and run the code\n",
        "in each section of this book\n",
        "using the Jupyter Notebook. Make sure you have\n",
        "installed Jupyter and downloaded the\n",
        "code as described in\n",
        ":ref:`chap_installation`.\n",
        "If you want to know more about Jupyter see the excellent tutorial in\n",
        "their [documentation](https://jupyter.readthedocs.io/en/latest/).\n",
        "\n",
        "\n",
        "## Editing and Running the Code Locally\n",
        "\n",
        "Suppose that the local path of the book's code is `xx/yy/d2l-en/`. Use the shell to change the directory to this path (`cd xx/yy/d2l-en`) and run the command `jupyter notebook`. If your browser does not do this automatically, open http://localhost:8888 and you will see the interface of Jupyter and all the folders containing the code of the book, as shown in :numref:`fig_jupyter00`.\n",
        "\n",
        "![The folders containing the code of this book.](https://github.com/d2l-ai/d2l-en-colab/blob/master/img/jupyter00.png?raw=1)\n",
        ":width:`600px`\n",
        ":label:`fig_jupyter00`\n",
        "\n",
        "\n",
        "You can access the notebook files by clicking on the folder displayed on the webpage.\n",
        "They usually have the suffix \".ipynb\".\n",
        "For the sake of brevity, we create a temporary \"test.ipynb\" file.\n",
        "The content displayed after you click it is\n",
        "shown in :numref:`fig_jupyter01`.\n",
        "This notebook includes a markdown cell and a code cell. The content in the markdown cell includes \"This Is a Title\" and \"This is text.\".\n",
        "The code cell contains two lines of Python code.\n",
        "\n",
        "![Markdown and code cells in the \"text.ipynb\" file.](https://github.com/d2l-ai/d2l-en-colab/blob/master/img/jupyter01.png?raw=1)\n",
        ":width:`600px`\n",
        ":label:`fig_jupyter01`\n",
        "\n",
        "\n",
        "Double click on the markdown cell to enter edit mode.\n",
        "Add a new text string \"Hello world.\" at the end of the cell, as shown in :numref:`fig_jupyter02`.\n",
        "\n",
        "![Edit the markdown cell.](https://github.com/d2l-ai/d2l-en-colab/blob/master/img/jupyter02.png?raw=1)\n",
        ":width:`600px`\n",
        ":label:`fig_jupyter02`\n",
        "\n",
        "\n",
        "As demonstrated in :numref:`fig_jupyter03`,\n",
        "click \"Cell\" $\\rightarrow$ \"Run Cells\" in the menu bar to run the edited cell.\n",
        "\n",
        "![Run the cell.](https://github.com/d2l-ai/d2l-en-colab/blob/master/img/jupyter03.png?raw=1)\n",
        ":width:`600px`\n",
        ":label:`fig_jupyter03`\n",
        "\n",
        "After running, the markdown cell is shown in :numref:`fig_jupyter04`.\n",
        "\n",
        "![The markdown cell after running.](https://github.com/d2l-ai/d2l-en-colab/blob/master/img/jupyter04.png?raw=1)\n",
        ":width:`600px`\n",
        ":label:`fig_jupyter04`\n",
        "\n",
        "\n",
        "Next, click on the code cell. Multiply the elements by 2 after the last line of code, as shown in :numref:`fig_jupyter05`.\n",
        "\n",
        "![Edit the code cell.](https://github.com/d2l-ai/d2l-en-colab/blob/master/img/jupyter05.png?raw=1)\n",
        ":width:`600px`\n",
        ":label:`fig_jupyter05`\n",
        "\n",
        "\n",
        "You can also run the cell with a shortcut (\"Ctrl + Enter\" by default) and obtain the output result from :numref:`fig_jupyter06`.\n",
        "\n",
        "![Run the code cell to obtain the output.](https://github.com/d2l-ai/d2l-en-colab/blob/master/img/jupyter06.png?raw=1)\n",
        ":width:`600px`\n",
        ":label:`fig_jupyter06`\n",
        "\n",
        "\n",
        "When a notebook contains more cells, we can click \"Kernel\" $\\rightarrow$ \"Restart & Run All\" in the menu bar to run all the cells in the entire notebook. By clicking \"Help\" $\\rightarrow$ \"Edit Keyboard Shortcuts\" in the menu bar, you can edit the shortcuts according to your preferences.\n",
        "\n",
        "## Advanced Options\n",
        "\n",
        "Beyond local editing two things are quite important: editing the notebooks in the markdown format and running Jupyter remotely.\n",
        "The latter matters when we want to run the code on a faster server.\n",
        "The former matters since Jupyter's native ipynb format stores a lot of auxiliary data that is\n",
        "irrelevant to the content,\n",
        "mostly related to how and where the code is run.\n",
        "This is confusing for Git, making\n",
        "reviewing contributions very difficult.\n",
        "Fortunately there is an alternative---native editing in the markdown format.\n",
        "\n",
        "### Markdown Files in Jupyter\n",
        "\n",
        "If you wish to contribute to the content of this book, you need to modify the\n",
        "source file (md file, not ipynb file) on GitHub.\n",
        "Using the notedown plugin we\n",
        "can modify notebooks in the md format directly in Jupyter.\n",
        "\n",
        "\n",
        "First, install the notedown plugin, run the Jupyter Notebook, and load the plugin:\n",
        "\n",
        "```\n",
        "pip install d2l-notedown  # You may need to uninstall the original notedown.\n",
        "jupyter notebook --NotebookApp.contents_manager_class='notedown.NotedownContentsManager'\n",
        "```\n",
        "\n",
        "You may also turn on the notedown plugin by default whenever you run the Jupyter Notebook.\n",
        "First, generate a Jupyter Notebook configuration file (if it has already been generated, you can skip this step).\n",
        "\n",
        "```\n",
        "jupyter notebook --generate-config\n",
        "```\n",
        "\n",
        "Then, add the following line to the end of the Jupyter Notebook configuration file (for Linux or macOS, usually in the path `~/.jupyter/jupyter_notebook_config.py`):\n",
        "\n",
        "```\n",
        "c.NotebookApp.contents_manager_class = 'notedown.NotedownContentsManager'\n",
        "```\n",
        "\n",
        "After that, you only need to run the `jupyter notebook` command to turn on the notedown plugin by default.\n",
        "\n",
        "### Running Jupyter Notebooks on a Remote Server\n",
        "\n",
        "Sometimes, you may want to run Jupyter notebooks on a remote server and access it through a browser on your local computer. If Linux or macOS is installed on your local machine (Windows can also support this function through third-party software such as PuTTY), you can use port forwarding:\n",
        "\n",
        "```\n",
        "ssh myserver -L 8888:localhost:8888\n",
        "```\n",
        "\n",
        "The above string `myserver` is the address of the remote server.\n",
        "Then we can use http://localhost:8888 to access the remote server `myserver` that runs Jupyter notebooks. We will detail on how to run Jupyter notebooks on AWS instances\n",
        "later in this appendix.\n",
        "\n",
        "### Timing\n",
        "\n",
        "We can use the `ExecuteTime` plugin to time the execution of each code cell in Jupyter notebooks.\n",
        "Use the following commands to install the plugin:\n",
        "\n",
        "```\n",
        "pip install jupyter_contrib_nbextensions\n",
        "jupyter contrib nbextension install --user\n",
        "jupyter nbextension enable execute_time/ExecuteTime\n",
        "```\n",
        "\n",
        "## Summary\n",
        "\n",
        "* Using the Jupyter Notebook tool, we can edit, run, and contribute to each section of the book.\n",
        "* We can run Jupyter notebooks on remote servers using port forwarding.\n",
        "\n",
        "\n",
        "## Exercises\n",
        "\n",
        "1. Edit and run the code in this book with the Jupyter Notebook on your local machine.\n",
        "1. Edit and run the code in this book with the Jupyter Notebook *remotely* via port forwarding.\n",
        "1. Compare the running time of the operations $\\mathbf{A}^\\top \\mathbf{B}$ and $\\mathbf{A} \\mathbf{B}$ for two square matrices in $\\mathbb{R}^{1024 \\times 1024}$. Which one is faster?\n",
        "\n",
        "\n",
        "[Discussions](https://discuss.d2l.ai/t/421)\n"
      ]
    },
    {
      "cell_type": "code",
      "source": [
        "import numpy as np\n",
        "array_2D=np.identity(3)\n",
        "print('3x3 matrix:')\n",
        "print(array_2D)"
      ],
      "metadata": {
        "colab": {
          "base_uri": "https://localhost:8080/"
        },
        "id": "DeTZOpYUOz-u",
        "outputId": "3fa60fdc-03e8-47e1-d2b7-c35f287f3885"
      },
      "id": "DeTZOpYUOz-u",
      "execution_count": 2,
      "outputs": [
        {
          "output_type": "stream",
          "name": "stdout",
          "text": [
            "3x3 matrix:\n",
            "[[1. 0. 0.]\n",
            " [0. 1. 0.]\n",
            " [0. 0. 1.]]\n"
          ]
        }
      ]
    },
    {
      "cell_type": "code",
      "source": [
        "import numpy as np\n",
        "x = np.ones((10, 10))\n",
        "x[1:-1, 1:-1] = 0\n",
        "print(x)"
      ],
      "metadata": {
        "colab": {
          "base_uri": "https://localhost:8080/"
        },
        "id": "x65Ax2WdPCIU",
        "outputId": "5e852db3-c324-4675-e6e8-9c3b7e7dbdc8"
      },
      "id": "x65Ax2WdPCIU",
      "execution_count": 3,
      "outputs": [
        {
          "output_type": "stream",
          "name": "stdout",
          "text": [
            "[[1. 1. 1. 1. 1. 1. 1. 1. 1. 1.]\n",
            " [1. 0. 0. 0. 0. 0. 0. 0. 0. 1.]\n",
            " [1. 0. 0. 0. 0. 0. 0. 0. 0. 1.]\n",
            " [1. 0. 0. 0. 0. 0. 0. 0. 0. 1.]\n",
            " [1. 0. 0. 0. 0. 0. 0. 0. 0. 1.]\n",
            " [1. 0. 0. 0. 0. 0. 0. 0. 0. 1.]\n",
            " [1. 0. 0. 0. 0. 0. 0. 0. 0. 1.]\n",
            " [1. 0. 0. 0. 0. 0. 0. 0. 0. 1.]\n",
            " [1. 0. 0. 0. 0. 0. 0. 0. 0. 1.]\n",
            " [1. 1. 1. 1. 1. 1. 1. 1. 1. 1.]]\n"
          ]
        }
      ]
    },
    {
      "cell_type": "code",
      "source": [
        "import numpy as np\n",
        "m= np.arange(10,22).reshape((3, 4))\n",
        "print(m)"
      ],
      "metadata": {
        "colab": {
          "base_uri": "https://localhost:8080/"
        },
        "id": "7YN0H_tAPIdV",
        "outputId": "9cc76247-66f4-4ce5-fd51-780643f59072"
      },
      "id": "7YN0H_tAPIdV",
      "execution_count": 4,
      "outputs": [
        {
          "output_type": "stream",
          "name": "stdout",
          "text": [
            "[[10 11 12 13]\n",
            " [14 15 16 17]\n",
            " [18 19 20 21]]\n"
          ]
        }
      ]
    },
    {
      "cell_type": "code",
      "source": [
        "import numpy as np\n",
        "x = np.diag([1, 2, 3, 4, 5])\n",
        "print(x)"
      ],
      "metadata": {
        "colab": {
          "base_uri": "https://localhost:8080/"
        },
        "id": "9yn8Sy1uPMVC",
        "outputId": "9ddbc590-5529-40ef-bfda-20517b74a39e"
      },
      "id": "9yn8Sy1uPMVC",
      "execution_count": 5,
      "outputs": [
        {
          "output_type": "stream",
          "name": "stdout",
          "text": [
            "[[1 0 0 0 0]\n",
            " [0 2 0 0 0]\n",
            " [0 0 3 0 0]\n",
            " [0 0 0 4 0]\n",
            " [0 0 0 0 5]]\n"
          ]
        }
      ]
    },
    {
      "cell_type": "code",
      "source": [
        "import numpy as np\n",
        "x = np.zeros((4, 4))\n",
        "x[::2, 1::2] = 1\n",
        "x[1::2, ::2] = 1\n",
        "print(x)"
      ],
      "metadata": {
        "colab": {
          "base_uri": "https://localhost:8080/"
        },
        "id": "Rm__2eX-POkd",
        "outputId": "1f8bf8dd-808f-4193-b351-b5cd9edd8340"
      },
      "id": "Rm__2eX-POkd",
      "execution_count": 6,
      "outputs": [
        {
          "output_type": "stream",
          "name": "stdout",
          "text": [
            "[[0. 1. 0. 1.]\n",
            " [1. 0. 1. 0.]\n",
            " [0. 1. 0. 1.]\n",
            " [1. 0. 1. 0.]]\n"
          ]
        }
      ]
    },
    {
      "cell_type": "code",
      "source": [
        "import numpy as np\n",
        "a = [[1, 2], [3, 4]]\n",
        "x = np.array(a)\n",
        "a2 = x.tolist()\n",
        "print(a == a2)"
      ],
      "metadata": {
        "colab": {
          "base_uri": "https://localhost:8080/"
        },
        "id": "eBS0FgmfPTnD",
        "outputId": "bacd9a36-7e7b-4b49-eb00-70255aa7d864"
      },
      "id": "eBS0FgmfPTnD",
      "execution_count": 7,
      "outputs": [
        {
          "output_type": "stream",
          "name": "stdout",
          "text": [
            "True\n"
          ]
        }
      ]
    },
    {
      "cell_type": "code",
      "source": [
        "import numpy as np\n",
        "x = np.array([1, 2, 3, 4])\n",
        "print(\"Original array:\")\n",
        "print(x)\n",
        "print(\"Test if none of the elements of the said array is zero:\")\n",
        "print(np.all(x))\n",
        "x = np.array([0, 1, 2, 3])\n",
        "print(\"Original array:\")\n",
        "print(x)\n",
        "print(\"Test if none of the elements of the said array is zero:\")\n",
        "print(np.all(x))"
      ],
      "metadata": {
        "colab": {
          "base_uri": "https://localhost:8080/"
        },
        "id": "jU2Yo6rRPXxQ",
        "outputId": "a839bd5d-e582-450e-97a6-fd34c8218965"
      },
      "id": "jU2Yo6rRPXxQ",
      "execution_count": 8,
      "outputs": [
        {
          "output_type": "stream",
          "name": "stdout",
          "text": [
            "Original array:\n",
            "[1 2 3 4]\n",
            "Test if none of the elements of the said array is zero:\n",
            "True\n",
            "Original array:\n",
            "[0 1 2 3]\n",
            "Test if none of the elements of the said array is zero:\n",
            "False\n"
          ]
        }
      ]
    },
    {
      "cell_type": "code",
      "source": [
        "import numpy as np\n",
        "array=np.arange(30,71,2)\n",
        "print(\"Array of all the even integers from 30 to 70\")\n",
        "print(array)"
      ],
      "metadata": {
        "id": "oB472m_xPdAd",
        "outputId": "32386cac-bbba-4dc2-fac0-a1f976671588",
        "colab": {
          "base_uri": "https://localhost:8080/"
        }
      },
      "id": "oB472m_xPdAd",
      "execution_count": 9,
      "outputs": [
        {
          "output_type": "stream",
          "name": "stdout",
          "text": [
            "Array of all the even integers from 30 to 70\n",
            "[30 32 34 36 38 40 42 44 46 48 50 52 54 56 58 60 62 64 66 68 70]\n"
          ]
        }
      ]
    },
    {
      "cell_type": "code",
      "source": [
        "import numpy as np\n",
        "m= np.arange(10,22).reshape((3, 4))\n",
        "print(\"Original matrix:\")\n",
        "print(m)\n",
        "print(\"Number of rows and columns of the said matrix:\")\n",
        "print(m.shape)"
      ],
      "metadata": {
        "id": "gWjFOfNkPmJd",
        "outputId": "19c5c1f9-e241-40f1-947c-8fe70bbe5433",
        "colab": {
          "base_uri": "https://localhost:8080/"
        }
      },
      "id": "gWjFOfNkPmJd",
      "execution_count": 11,
      "outputs": [
        {
          "output_type": "stream",
          "name": "stdout",
          "text": [
            "Original matrix:\n",
            "[[10 11 12 13]\n",
            " [14 15 16 17]\n",
            " [18 19 20 21]]\n",
            "Number of rows and columns of the said matrix:\n",
            "(3, 4)\n"
          ]
        }
      ]
    },
    {
      "cell_type": "code",
      "source": [
        "import numpy as np\n",
        "X = np.array([1, 7, 13, 105])\n",
        "print(\"Original array:\")\n",
        "print(X)\n",
        "print(\"Size of the memory occupied by the said array:\")\n",
        "print(\"%d bytes\" % (X.size * X.itemsize))"
      ],
      "metadata": {
        "id": "Q-9f81MpPwpo",
        "outputId": "7bf2d3be-6879-429e-81f6-9453b8588bd7",
        "colab": {
          "base_uri": "https://localhost:8080/"
        }
      },
      "id": "Q-9f81MpPwpo",
      "execution_count": 12,
      "outputs": [
        {
          "output_type": "stream",
          "name": "stdout",
          "text": [
            "Original array:\n",
            "[  1   7  13 105]\n",
            "Size of the memory occupied by the said array:\n",
            "32 bytes\n"
          ]
        }
      ]
    },
    {
      "cell_type": "code",
      "source": [
        "import numpy as np\n",
        "v = np.arange(15,55)\n",
        "print(\"Original vector:\")\n",
        "print(v)\n",
        "print(\"All values except the first and last of the said vector:\")\n",
        "print(v[1:-1])"
      ],
      "metadata": {
        "id": "NfRyEzwgP0HQ",
        "outputId": "c99e4086-5c65-48d2-d6cc-05b955b06408",
        "colab": {
          "base_uri": "https://localhost:8080/"
        }
      },
      "id": "NfRyEzwgP0HQ",
      "execution_count": 13,
      "outputs": [
        {
          "output_type": "stream",
          "name": "stdout",
          "text": [
            "Original vector:\n",
            "[15 16 17 18 19 20 21 22 23 24 25 26 27 28 29 30 31 32 33 34 35 36 37 38\n",
            " 39 40 41 42 43 44 45 46 47 48 49 50 51 52 53 54]\n",
            "All values except the first and last of the said vector:\n",
            "[16 17 18 19 20 21 22 23 24 25 26 27 28 29 30 31 32 33 34 35 36 37 38 39\n",
            " 40 41 42 43 44 45 46 47 48 49 50 51 52 53]\n"
          ]
        }
      ]
    },
    {
      "cell_type": "code",
      "source": [
        "import numpy as np\n",
        "x = np.arange(21)\n",
        "print(\"Original vector:\")\n",
        "print(x)\n",
        "print(\"After changing the sign of the numbers in the range from 9 to 15:\")\n",
        "x[(x >= 9) & (x <= 15)] *= -1\n",
        "print(x)"
      ],
      "metadata": {
        "id": "ABFF8JFoP6AH",
        "outputId": "1fc7a75d-580e-4fc4-caae-b780d49249c3",
        "colab": {
          "base_uri": "https://localhost:8080/"
        }
      },
      "id": "ABFF8JFoP6AH",
      "execution_count": 14,
      "outputs": [
        {
          "output_type": "stream",
          "name": "stdout",
          "text": [
            "Original vector:\n",
            "[ 0  1  2  3  4  5  6  7  8  9 10 11 12 13 14 15 16 17 18 19 20]\n",
            "After changing the sign of the numbers in the range from 9 to 15:\n",
            "[  0   1   2   3   4   5   6   7   8  -9 -10 -11 -12 -13 -14 -15  16  17\n",
            "  18  19  20]\n"
          ]
        }
      ]
    },
    {
      "cell_type": "code",
      "source": [
        "import numpy as np\n",
        "nums = np.array([[[1, 2, 3, 4],\n",
        "[0, 1, 3, 4],\n",
        "[90, 91, 93, 94],\n",
        "[5, 0, 3, 2]]])\n",
        "print(\"Original array:\")\n",
        "print(nums)\n",
        "print(\"\\nSwap rows and columns of the said array in reverse order:\")\n",
        "new_nums = print(nums[::-1, ::-1])\n",
        "print(new_nums)"
      ],
      "metadata": {
        "id": "_Dsxiu1rP9BI",
        "outputId": "8c3d3130-d12f-4ff6-caf2-b78bae695aac",
        "colab": {
          "base_uri": "https://localhost:8080/"
        }
      },
      "id": "_Dsxiu1rP9BI",
      "execution_count": 15,
      "outputs": [
        {
          "output_type": "stream",
          "name": "stdout",
          "text": [
            "Original array:\n",
            "[[[ 1  2  3  4]\n",
            "  [ 0  1  3  4]\n",
            "  [90 91 93 94]\n",
            "  [ 5  0  3  2]]]\n",
            "\n",
            "Swap rows and columns of the said array in reverse order:\n",
            "[[[ 5  0  3  2]\n",
            "  [90 91 93 94]\n",
            "  [ 0  1  3  4]\n",
            "  [ 1  2  3  4]]]\n",
            "None\n"
          ]
        }
      ]
    },
    {
      "cell_type": "code",
      "source": [
        "import numpy as np\n",
        "nums1 = np.array([[2, 5, 2],\n",
        "[1, 5, 5]])\n",
        "nums2 = np.array([[5, 3, 4],\n",
        "[3, 2, 5]])\n",
        "print(\"Array1:\")\n",
        "print(nums1)\n",
        "print(\"Array2:\")\n",
        "print(nums2)\n",
        "print(\"\\nMultiply said arrays of same size element-by-element:\")\n",
        "print(np.multiply(nums1, nums2))"
      ],
      "metadata": {
        "id": "cYfQLljWQBD_",
        "outputId": "69aa0b1d-96c3-4883-fdf7-484da3f8db63",
        "colab": {
          "base_uri": "https://localhost:8080/"
        }
      },
      "id": "cYfQLljWQBD_",
      "execution_count": 16,
      "outputs": [
        {
          "output_type": "stream",
          "name": "stdout",
          "text": [
            "Array1:\n",
            "[[2 5 2]\n",
            " [1 5 5]]\n",
            "Array2:\n",
            "[[5 3 4]\n",
            " [3 2 5]]\n",
            "\n",
            "Multiply said arrays of same size element-by-element:\n",
            "[[10 15  8]\n",
            " [ 3 10 25]]\n"
          ]
        }
      ]
    },
    {
      "cell_type": "code",
      "source": [
        "import numpy as np\n",
        "nums = np.array([[5.54, 3.38, 7.99],\n",
        "[3.54, 4.38, 6.99],\n",
        "[1.54, 2.39, 9.29]])\n",
        "print(\"Original array:\")\n",
        "print(nums)\n",
        "n = 5\n",
        "print(\"\\nElements of the said array greater than\",n)\n",
        "print(nums[nums > n])\n",
        "n = 6\n",
        "print(\"\\nElements of the said array less than\",n)\n",
        "print(nums[nums < n])"
      ],
      "metadata": {
        "id": "TNxrlMEvQGB1",
        "outputId": "47b68530-18d5-4402-9693-ef174b6812b6",
        "colab": {
          "base_uri": "https://localhost:8080/"
        }
      },
      "id": "TNxrlMEvQGB1",
      "execution_count": 17,
      "outputs": [
        {
          "output_type": "stream",
          "name": "stdout",
          "text": [
            "Original array:\n",
            "[[5.54 3.38 7.99]\n",
            " [3.54 4.38 6.99]\n",
            " [1.54 2.39 9.29]]\n",
            "\n",
            "Elements of the said array greater than 5\n",
            "[5.54 7.99 6.99 9.29]\n",
            "\n",
            "Elements of the said array less than 6\n",
            "[5.54 3.38 3.54 4.38 1.54 2.39]\n"
          ]
        }
      ]
    },
    {
      "cell_type": "code",
      "source": [
        "import numpy as np\n",
        "nums = np.array([[5.54, 3.38, 7.99],\n",
        "[3.54, 4.38, 6.99],\n",
        "[1.54, 2.39, 9.29]])\n",
        "print(\"Original array:\")\n",
        "print(nums)\n",
        "print(\"\\nSort the said array by row in ascending order:\")\n",
        "print(np.sort(nums))\n",
        "print(\"\\nSort the said array by column in ascending order:\")\n",
        "print(np.sort(nums, axis=0))"
      ],
      "metadata": {
        "id": "Zy4Et_OOQJqY",
        "outputId": "2ea49245-2154-487b-a1f2-6f689b3354ed",
        "colab": {
          "base_uri": "https://localhost:8080/"
        }
      },
      "id": "Zy4Et_OOQJqY",
      "execution_count": 18,
      "outputs": [
        {
          "output_type": "stream",
          "name": "stdout",
          "text": [
            "Original array:\n",
            "[[5.54 3.38 7.99]\n",
            " [3.54 4.38 6.99]\n",
            " [1.54 2.39 9.29]]\n",
            "\n",
            "Sort the said array by row in ascending order:\n",
            "[[3.38 5.54 7.99]\n",
            " [3.54 4.38 6.99]\n",
            " [1.54 2.39 9.29]]\n",
            "\n",
            "Sort the said array by column in ascending order:\n",
            "[[1.54 2.39 6.99]\n",
            " [3.54 3.38 7.99]\n",
            " [5.54 4.38 9.29]]\n"
          ]
        }
      ]
    },
    {
      "cell_type": "code",
      "source": [
        "import numpy as np\n",
        "nums = np.arange(16, dtype='int').reshape(-1, 4)\n",
        "print(\"Original array:\")\n",
        "print(nums)\n",
        "print(\"\\nNew array after swapping first and last rows of the said array:\")\n",
        "nums[[0,-1],:]=nums[[-1,0],:]\n",
        "print(nums)"
      ],
      "metadata": {
        "id": "UoD85bxAQNx-",
        "outputId": "2ca58ef7-6b80-4887-e36c-28415e37d82f",
        "colab": {
          "base_uri": "https://localhost:8080/"
        }
      },
      "id": "UoD85bxAQNx-",
      "execution_count": 19,
      "outputs": [
        {
          "output_type": "stream",
          "name": "stdout",
          "text": [
            "Original array:\n",
            "[[ 0  1  2  3]\n",
            " [ 4  5  6  7]\n",
            " [ 8  9 10 11]\n",
            " [12 13 14 15]]\n",
            "\n",
            "New array after swapping first and last rows of the said array:\n",
            "[[12 13 14 15]\n",
            " [ 4  5  6  7]\n",
            " [ 8  9 10 11]\n",
            " [ 0  1  2  3]]\n"
          ]
        }
      ]
    },
    {
      "cell_type": "code",
      "source": [
        "import numpy as np\n",
        "import time\n",
        "import sys\n",
        "s=range(1000)\n",
        "print (type(s))\n",
        "print(sys.getsizeof(s)*len(s))\n",
        "a=np.arange(1000)\n",
        "print(a.size*a.itemsize)"
      ],
      "metadata": {
        "id": "ksWeAePSQQcz",
        "outputId": "752b9d29-37c7-493e-d34b-496d0b7612ab",
        "colab": {
          "base_uri": "https://localhost:8080/"
        }
      },
      "id": "ksWeAePSQQcz",
      "execution_count": 20,
      "outputs": [
        {
          "output_type": "stream",
          "name": "stdout",
          "text": [
            "<class 'range'>\n",
            "48000\n",
            "8000\n"
          ]
        }
      ]
    },
    {
      "cell_type": "code",
      "source": [
        "import numpy as np\n",
        "import time\n",
        "import sys\n",
        "size=100000\n",
        "l1=range(size)\n",
        "l2= range(size)\n",
        "a1=np.arange(size)\n",
        "a2=np.arange(size)\n",
        "start = time.time()\n",
        "r=[(x,y) for x,y in zip(l1,l2)]\n",
        "print((time.time()-start)*1000)\n",
        "start = time.time()\n",
        "r=a1+a2\n",
        "print((time.time()-start)*1000)"
      ],
      "metadata": {
        "id": "YTlPxj4CQVKr",
        "outputId": "473e467e-d852-4f0b-9ecc-516c8e11d2a2",
        "colab": {
          "base_uri": "https://localhost:8080/"
        }
      },
      "id": "YTlPxj4CQVKr",
      "execution_count": 22,
      "outputs": [
        {
          "output_type": "stream",
          "name": "stdout",
          "text": [
            "15.624046325683594\n",
            "4.388570785522461\n"
          ]
        }
      ]
    },
    {
      "cell_type": "code",
      "source": [
        "import numpy as np\n",
        "X = np.array([1, 7, 13, 105])\n",
        "print(\"Original array:\")\n",
        "print(X)\n",
        "print(\"Size of the memory occupied by the said array:\")\n",
        "print(\"%d bytes\" % (X.size * X.itemsize))"
      ],
      "metadata": {
        "id": "28d06mtrQbnM",
        "outputId": "39ec57dc-dbd2-4649-feb5-c8adfe82682e",
        "colab": {
          "base_uri": "https://localhost:8080/"
        }
      },
      "id": "28d06mtrQbnM",
      "execution_count": 23,
      "outputs": [
        {
          "output_type": "stream",
          "name": "stdout",
          "text": [
            "Original array:\n",
            "[  1   7  13 105]\n",
            "Size of the memory occupied by the said array:\n",
            "32 bytes\n"
          ]
        }
      ]
    },
    {
      "cell_type": "code",
      "source": [
        "import numpy as np\n",
        "x = np.random.random((3, 3, 3))\n",
        "print(x)"
      ],
      "metadata": {
        "id": "IYH9jvJjQeMp",
        "outputId": "00cf1f12-2896-40be-afa7-bea143169d54",
        "colab": {
          "base_uri": "https://localhost:8080/"
        }
      },
      "id": "IYH9jvJjQeMp",
      "execution_count": 24,
      "outputs": [
        {
          "output_type": "stream",
          "name": "stdout",
          "text": [
            "[[[0.50859693 0.59098206 0.82348142]\n",
            "  [0.99366968 0.80810288 0.50620356]\n",
            "  [0.59377353 0.46232094 0.05515545]]\n",
            "\n",
            " [[0.43424328 0.33234057 0.22167355]\n",
            "  [0.50788526 0.58299853 0.21863156]\n",
            "  [0.00317569 0.01420719 0.89817425]]\n",
            "\n",
            " [[0.3583874  0.02424099 0.07380134]\n",
            "  [0.47084509 0.80919929 0.65997502]\n",
            "  [0.19818104 0.52627972 0.78088669]]]\n"
          ]
        }
      ]
    },
    {
      "cell_type": "code",
      "source": [
        "import numpy as np\n",
        "import os\n",
        "x = np.arange(12).reshape(4, 3)\n",
        "print(\"Original array:\")\n",
        "print(x)\n",
        "header = 'col1 col2 col3'\n",
        "np.savetxt('temp.txt', x, fmt=\"%d\", header=header)\n",
        "print(\"After loading, content of the text file:\")\n",
        "result = np.loadtxt('temp.txt')\n",
        "print(result)"
      ],
      "metadata": {
        "id": "oZAhaVXnQilF",
        "outputId": "95e88da5-ffe9-4c04-a0dc-0e83e66d477d",
        "colab": {
          "base_uri": "https://localhost:8080/"
        }
      },
      "id": "oZAhaVXnQilF",
      "execution_count": 25,
      "outputs": [
        {
          "output_type": "stream",
          "name": "stdout",
          "text": [
            "Original array:\n",
            "[[ 0  1  2]\n",
            " [ 3  4  5]\n",
            " [ 6  7  8]\n",
            " [ 9 10 11]]\n",
            "After loading, content of the text file:\n",
            "[[ 0.  1.  2.]\n",
            " [ 3.  4.  5.]\n",
            " [ 6.  7.  8.]\n",
            " [ 9. 10. 11.]]\n"
          ]
        }
      ]
    },
    {
      "cell_type": "code",
      "source": [
        "import numpy as np\n",
        "import matplotlib.pyplot as plt\n",
        "# Compute the x and y coordinates for points on a sine curve\n",
        "x = np.arange(0, 3 * np.pi, 0.2)\n",
        "y = np.sin(x)\n",
        "print(\"Plot the points using matplotlib:\")\n",
        "plt.plot(x, y)\n",
        "plt.show()"
      ],
      "metadata": {
        "id": "xJCNcoraQm5p",
        "outputId": "32cbbe52-038f-4c62-9c3f-e9bf7b27eb38",
        "colab": {
          "base_uri": "https://localhost:8080/",
          "height": 447
        }
      },
      "id": "xJCNcoraQm5p",
      "execution_count": 26,
      "outputs": [
        {
          "output_type": "stream",
          "name": "stdout",
          "text": [
            "Plot the points using matplotlib:\n"
          ]
        },
        {
          "output_type": "display_data",
          "data": {
            "text/plain": [
              "<Figure size 640x480 with 1 Axes>"
            ],
            "image/png": "[encoded data removed]"
          },
          "metadata": {}
        }
      ]
    }
  ],
  "metadata": {
    "kernelspec": {
      "display_name": "Python 3",
      "name": "python3"
    },
    "language_info": {
      "name": "python"
    },
    "required_libs": [],
    "colab": {
      "provenance": []
    }
  },
  "nbformat": 4,
  "nbformat_minor": 5
}